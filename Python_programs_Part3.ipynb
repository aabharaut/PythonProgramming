{
 "cells": [
  {
   "cell_type": "markdown",
   "id": "953eefd6",
   "metadata": {},
   "source": [
    "# Python Programs_Part3"
   ]
  },
  {
   "cell_type": "code",
   "execution_count": 1,
   "id": "e9b9b3b0",
   "metadata": {},
   "outputs": [
    {
     "name": "stdout",
     "output_type": "stream",
     "text": [
      "Right Wrong Wrong Wrong Wrong \n",
      "Right Wrong Wrong Wrong Wrong \n",
      "Right Wrong Wrong Wrong Wrong \n",
      "Right Wrong Wrong Wrong Wrong \n",
      "Right Wrong Wrong Wrong Wrong \n"
     ]
    }
   ],
   "source": [
    "#while loop - condition is applied\n",
    "n=1\n",
    "while n<=5:\n",
    "    print(\"Right \",end=\"\") #end to remain on same line\n",
    "    m=1\n",
    "    while m<=4:\n",
    "        print(\"Wrong \", end=\"\")\n",
    "        m=m+1\n",
    "\n",
    "    n=n+1\n",
    "    print()"
   ]
  },
  {
   "cell_type": "code",
   "execution_count": 4,
   "id": "1551fc8c",
   "metadata": {},
   "outputs": [
    {
     "name": "stdout",
     "output_type": "stream",
     "text": [
      "a\n",
      "a\n",
      "b\n",
      "h\n",
      "a\n"
     ]
    }
   ],
   "source": [
    "#for loop used with sequence like string\n",
    "#x=[1,'aabha',4,5]\n",
    "x='aabha'\n",
    "for i in x:\n",
    "    print(i)\n"
   ]
  },
  {
   "cell_type": "code",
   "execution_count": 9,
   "id": "f81a9931",
   "metadata": {},
   "outputs": [
    {
     "name": "stdout",
     "output_type": "stream",
     "text": [
      "3\n",
      "5\n",
      "aabha\n"
     ]
    }
   ],
   "source": [
    "#for i in range(0,10): #print range of values from 0 to 9\n",
    " #   print(i)\n",
    "#for i in range(2,20,4):\n",
    " #   print(i)\n",
    "for i in [3,5,'aabha']:\n",
    "    print(i)"
   ]
  },
  {
   "cell_type": "code",
   "execution_count": 10,
   "id": "c3275203",
   "metadata": {},
   "outputs": [
    {
     "name": "stdout",
     "output_type": "stream",
     "text": [
      "1\n",
      "2\n",
      "3\n",
      "4\n",
      "6\n",
      "7\n",
      "8\n",
      "9\n",
      "11\n",
      "12\n",
      "13\n",
      "14\n",
      "16\n",
      "17\n",
      "18\n",
      "19\n"
     ]
    }
   ],
   "source": [
    "for i in range(1,21):\n",
    "    if i%5!=0:\n",
    "        print(i)"
   ]
  },
  {
   "cell_type": "code",
   "execution_count": null,
   "id": "17f43e72",
   "metadata": {},
   "outputs": [],
   "source": []
  }
 ],
 "metadata": {
  "kernelspec": {
   "display_name": "Python 3",
   "language": "python",
   "name": "python3"
  },
  "language_info": {
   "codemirror_mode": {
    "name": "ipython",
    "version": 3
   },
   "file_extension": ".py",
   "mimetype": "text/x-python",
   "name": "python",
   "nbconvert_exporter": "python",
   "pygments_lexer": "ipython3",
   "version": "3.8.8"
  }
 },
 "nbformat": 4,
 "nbformat_minor": 5
}
