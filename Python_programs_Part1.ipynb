{
 "cells": [
  {
   "cell_type": "markdown",
   "id": "5accc719",
   "metadata": {},
   "source": [
    "# Python Basics - Part1"
   ]
  },
  {
   "cell_type": "code",
   "execution_count": null,
   "id": "001a1182",
   "metadata": {},
   "outputs": [],
   "source": [
    "num=10"
   ]
  },
  {
   "cell_type": "code",
   "execution_count": 2,
   "id": "52bee7e2",
   "metadata": {},
   "outputs": [
    {
     "data": {
      "text/plain": [
       "int"
      ]
     },
     "execution_count": 2,
     "metadata": {},
     "output_type": "execute_result"
    }
   ],
   "source": [
    "type(num)"
   ]
  },
  {
   "cell_type": "code",
   "execution_count": 3,
   "id": "b19dc47a",
   "metadata": {},
   "outputs": [
    {
     "data": {
      "text/plain": [
       "float"
      ]
     },
     "execution_count": 3,
     "metadata": {},
     "output_type": "execute_result"
    }
   ],
   "source": [
    "num1=8.9\n",
    "type(num1)"
   ]
  },
  {
   "cell_type": "code",
   "execution_count": 4,
   "id": "835e0fda",
   "metadata": {},
   "outputs": [
    {
     "data": {
      "text/plain": [
       "8"
      ]
     },
     "execution_count": 4,
     "metadata": {},
     "output_type": "execute_result"
    }
   ],
   "source": [
    "int(num1)"
   ]
  },
  {
   "cell_type": "code",
   "execution_count": 5,
   "id": "aa2c2ac4",
   "metadata": {},
   "outputs": [
    {
     "data": {
      "text/plain": [
       "[0, 1, 2, 3, 4, 5, 6, 7, 8, 9]"
      ]
     },
     "execution_count": 5,
     "metadata": {},
     "output_type": "execute_result"
    }
   ],
   "source": [
    "list(range(10))"
   ]
  },
  {
   "cell_type": "code",
   "execution_count": 10,
   "id": "38f27494",
   "metadata": {},
   "outputs": [
    {
     "data": {
      "text/plain": [
       "{'name': 'samsung', 'rahul': 'iphone'}"
      ]
     },
     "execution_count": 10,
     "metadata": {},
     "output_type": "execute_result"
    }
   ],
   "source": [
    "#dictionary for every value we assign a key\n",
    "#key is unique\n",
    "d={'name':'samsung','rahul':'iphone'}\n",
    "d"
   ]
  },
  {
   "cell_type": "code",
   "execution_count": 11,
   "id": "069816a1",
   "metadata": {},
   "outputs": [
    {
     "data": {
      "text/plain": [
       "dict_values(['samsung', 'iphone'])"
      ]
     },
     "execution_count": 11,
     "metadata": {},
     "output_type": "execute_result"
    }
   ],
   "source": [
    "d.values()"
   ]
  },
  {
   "cell_type": "code",
   "execution_count": 12,
   "id": "87705600",
   "metadata": {},
   "outputs": [
    {
     "data": {
      "text/plain": [
       "dict_keys(['name', 'rahul'])"
      ]
     },
     "execution_count": 12,
     "metadata": {},
     "output_type": "execute_result"
    }
   ],
   "source": [
    "d.keys()"
   ]
  },
  {
   "cell_type": "code",
   "execution_count": null,
   "id": "e91a0486",
   "metadata": {},
   "outputs": [],
   "source": [
    "#arithmatic operator +,-,*,/\n",
    "#assignment operator =\n",
    "#unary operator\n",
    "#logical operator \n",
    "#relational operator <,>,>=,<="
   ]
  },
  {
   "cell_type": "code",
   "execution_count": 13,
   "id": "c294c161",
   "metadata": {},
   "outputs": [],
   "source": [
    "import math"
   ]
  },
  {
   "cell_type": "code",
   "execution_count": 19,
   "id": "4694e33f",
   "metadata": {},
   "outputs": [
    {
     "name": "stdout",
     "output_type": "stream",
     "text": [
      "10\n"
     ]
    }
   ],
   "source": [
    "x=math.sqrt(88)\n",
    "#print(math.floor(9.3))#lower value\n",
    "print(math.ceil(9.3)) #higher value"
   ]
  },
  {
   "cell_type": "code",
   "execution_count": 20,
   "id": "7fec2b63",
   "metadata": {},
   "outputs": [
    {
     "data": {
      "text/plain": [
       "8"
      ]
     },
     "execution_count": 20,
     "metadata": {},
     "output_type": "execute_result"
    }
   ],
   "source": [
    "pow(2,3) #power function\n",
    "#from math import sqrt,pow"
   ]
  },
  {
   "cell_type": "code",
   "execution_count": 22,
   "id": "efa49a2c",
   "metadata": {},
   "outputs": [
    {
     "name": "stdout",
     "output_type": "stream",
     "text": [
      "Enter 1st number5\n",
      "enter second number6\n",
      "11\n"
     ]
    }
   ],
   "source": [
    "#Addition of two numbers using variables\n",
    "x=input(\"Enter 1st number\")\n",
    "a=int(x) #need to conver it into string\n",
    "y=input(\"enter second number\")\n",
    "b=int(y)\n",
    "z=a+b\n",
    "print(z)"
   ]
  },
  {
   "cell_type": "code",
   "execution_count": 25,
   "id": "308e3af5",
   "metadata": {},
   "outputs": [
    {
     "name": "stdout",
     "output_type": "stream",
     "text": [
      "bye\n"
     ]
    }
   ],
   "source": [
    "if False:\n",
    "    print(\"very true\")\n",
    "print(\"bye\")\n",
    "    "
   ]
  },
  {
   "cell_type": "code",
   "execution_count": 28,
   "id": "7d3a36fa",
   "metadata": {},
   "outputs": [
    {
     "name": "stdout",
     "output_type": "stream",
     "text": [
      "Even\n",
      "high\n"
     ]
    }
   ],
   "source": [
    "x=8\n",
    "r=x%2\n",
    "if r==0:\n",
    "    print(\"Even\")\n",
    "    if x>5:\n",
    "        print(\"high\")\n",
    "else:\n",
    "    print(\"odd\")"
   ]
  },
  {
   "cell_type": "code",
   "execution_count": 30,
   "id": "88703298",
   "metadata": {},
   "outputs": [
    {
     "name": "stdout",
     "output_type": "stream",
     "text": [
      "something wrong\n"
     ]
    }
   ],
   "source": [
    "x=8\n",
    "if(x==1):\n",
    "    print(\"One\")\n",
    "elif(x==2):\n",
    "    print(\"Two\")\n",
    "elif(x==3):\n",
    "    print(\"Three\")\n",
    "else:\n",
    "    print(\"something wrong\")"
   ]
  },
  {
   "cell_type": "code",
   "execution_count": 39,
   "id": "61d8e897",
   "metadata": {},
   "outputs": [
    {
     "name": "stdout",
     "output_type": "stream",
     "text": [
      "Right 1\n",
      "Right 2\n",
      "Right 3\n",
      "Right 4\n",
      "Right 5\n"
     ]
    }
   ],
   "source": [
    "#while loop\n",
    "n=1\n",
    "j=1\n",
    "while n<=5:\n",
    "    print(\"Right\",n)\n",
    "    n=n+1"
   ]
  },
  {
   "cell_type": "code",
   "execution_count": null,
   "id": "e4c00cf9",
   "metadata": {},
   "outputs": [],
   "source": []
  }
 ],
 "metadata": {
  "kernelspec": {
   "display_name": "Python 3",
   "language": "python",
   "name": "python3"
  },
  "language_info": {
   "codemirror_mode": {
    "name": "ipython",
    "version": 3
   },
   "file_extension": ".py",
   "mimetype": "text/x-python",
   "name": "python",
   "nbconvert_exporter": "python",
   "pygments_lexer": "ipython3",
   "version": "3.8.8"
  }
 },
 "nbformat": 4,
 "nbformat_minor": 5
}
