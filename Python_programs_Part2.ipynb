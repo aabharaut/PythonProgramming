{
 "cells": [
  {
   "cell_type": "markdown",
   "id": "461fcd80",
   "metadata": {},
   "source": [
    "#     Python Programs - Part2\n"
   ]
  },
  {
   "cell_type": "code",
   "execution_count": null,
   "id": "c9633feb",
   "metadata": {},
   "outputs": [],
   "source": [
    "#fibonacci series\n",
    "def fib(n):\n",
    "    a=0\n",
    "    b=1\n",
    "    \n",
    "    if n<0:   #if just one number is there\n",
    "        print(a)\n",
    "    \n",
    "    else:  \n",
    "        print(a)\n",
    "        print(b)\n",
    "    \n",
    "    for i in range(2,n):\n",
    "        c=a+b\n",
    "        a=b\n",
    "        b=c\n",
    "        print(c)\n",
    "\n",
    "fib(5)"
   ]
  },
  {
   "cell_type": "code",
   "execution_count": 25,
   "id": "050ec936",
   "metadata": {},
   "outputs": [
    {
     "data": {
      "text/plain": [
       "['navin', 'array', 14]"
      ]
     },
     "execution_count": 25,
     "metadata": {},
     "output_type": "execute_result"
    }
   ],
   "source": [
    "#string is not mutable\n",
    "#list can have different type of data\n",
    "#list is mutable (can change the value)\n",
    "names=['navin','array',9.5]\n",
    "names1=['jj']\n",
    "mil=[names,names1] #combine lists\n",
    "mil\n",
    "names.append(7) #at the end\n",
    "names\n",
    "names.insert(2,14) #with index number\n",
    "names\n",
    "names.pop() #pop out last value\n",
    "del names[3:] #delete from the index number\n",
    "names"
   ]
  },
  {
   "cell_type": "code",
   "execution_count": 28,
   "id": "57cbebb0",
   "metadata": {},
   "outputs": [
    {
     "data": {
      "text/plain": [
       "35"
      ]
     },
     "execution_count": 28,
     "metadata": {},
     "output_type": "execute_result"
    }
   ],
   "source": [
    "names2=[3,5,18,9]\n",
    "sum(names2)"
   ]
  },
  {
   "cell_type": "code",
   "execution_count": null,
   "id": "5638f0d3",
   "metadata": {},
   "outputs": [],
   "source": [
    "#tuple is not mutable\n",
    "tup=(21,5,6) #start with round bracket\n",
    "#iteration is faster\n",
    "\n",
    "#set - collection of unique elements (follows hash concept to improve performance)\n",
    "s={22,25,14,25} #no specific sequence it follows\n",
    "s"
   ]
  },
  {
   "cell_type": "code",
   "execution_count": null,
   "id": "dd77375b",
   "metadata": {},
   "outputs": [],
   "source": [
    "num=10\n",
    "type(num)"
   ]
  },
  {
   "cell_type": "code",
   "execution_count": 2,
   "id": "9ed8d231",
   "metadata": {},
   "outputs": [
    {
     "name": "stdout",
     "output_type": "stream",
     "text": [
      "Enter stringabcde\n",
      "Not palindrome\n"
     ]
    }
   ],
   "source": [
    "#palindrome\n",
    "s=input(\"Enter string\")\n",
    "revstr=s[::-1]\n",
    "if revstr==s:\n",
    "    print(\"palindrom\")\n",
    "else:\n",
    "    print(\"Not palindrome\")"
   ]
  },
  {
   "cell_type": "code",
   "execution_count": 3,
   "id": "441cfa9c",
   "metadata": {},
   "outputs": [
    {
     "data": {
      "text/plain": [
       "'hello world hi python'"
      ]
     },
     "execution_count": 3,
     "metadata": {},
     "output_type": "execute_result"
    }
   ],
   "source": [
    "f=\"hello world hi python\"\n",
    "f"
   ]
  },
  {
   "cell_type": "code",
   "execution_count": 4,
   "id": "39be30fe",
   "metadata": {},
   "outputs": [
    {
     "data": {
      "text/plain": [
       "['hello', 'world', 'hi', 'python']"
      ]
     },
     "execution_count": 4,
     "metadata": {},
     "output_type": "execute_result"
    }
   ],
   "source": [
    "f1=f.split(\" \")\n",
    "f1"
   ]
  },
  {
   "cell_type": "code",
   "execution_count": 10,
   "id": "aee016db",
   "metadata": {},
   "outputs": [],
   "source": [
    "f2=f1[::-1]"
   ]
  },
  {
   "cell_type": "code",
   "execution_count": 11,
   "id": "daa4ce99",
   "metadata": {},
   "outputs": [],
   "source": [
    "output=' '.join(f2)"
   ]
  },
  {
   "cell_type": "code",
   "execution_count": 12,
   "id": "2c090d8d",
   "metadata": {},
   "outputs": [
    {
     "data": {
      "text/plain": [
       "'python hi world hello'"
      ]
     },
     "execution_count": 12,
     "metadata": {},
     "output_type": "execute_result"
    }
   ],
   "source": [
    "output"
   ]
  },
  {
   "cell_type": "code",
   "execution_count": 13,
   "id": "b68fd434",
   "metadata": {},
   "outputs": [],
   "source": [
    "import re"
   ]
  },
  {
   "cell_type": "code",
   "execution_count": 22,
   "id": "bdf1c887",
   "metadata": {},
   "outputs": [],
   "source": [
    "str1=\"Hello^$\""
   ]
  },
  {
   "cell_type": "code",
   "execution_count": 23,
   "id": "c0a092af",
   "metadata": {},
   "outputs": [
    {
     "name": "stdout",
     "output_type": "stream",
     "text": [
      "yes\n"
     ]
    }
   ],
   "source": [
    "regex=re.compile('[%$^&*()]')\n",
    "if(regex.search(str1)==None):\n",
    "    print(\"No specail\")\n",
    "else:\n",
    "    print(\"yes\")"
   ]
  },
  {
   "cell_type": "code",
   "execution_count": 30,
   "id": "2bf9f0ac",
   "metadata": {},
   "outputs": [
    {
     "name": "stdout",
     "output_type": "stream",
     "text": [
      "Hey, cant divide by 0: division by zero\n",
      "Bye\n"
     ]
    }
   ],
   "source": [
    "#errors -> complie time, logical , runtime\n",
    "#syntax error (compile time error)\n",
    "#code is working but the output is wrong\n",
    "#code get compiled properly but its not working for specific input\n",
    "#even if u get error your execution should not stop\n",
    "\n",
    "a=5\n",
    "b=0\n",
    "try:\n",
    "    print(a/b) #critical statement lets test it for errors\n",
    "except Exception as e:\n",
    "    print(\"Hey, cant divide by 0:\", e) #handle the error\n",
    "    \n",
    "print(\"Bye\")"
   ]
  },
  {
   "cell_type": "code",
   "execution_count": 35,
   "id": "cc2b2360",
   "metadata": {},
   "outputs": [
    {
     "name": "stdout",
     "output_type": "stream",
     "text": [
      "found\n",
      "\n"
     ]
    }
   ],
   "source": [
    "#linear search\n",
    "list9=[4,5,6,7]\n",
    "ele=6\n",
    "for i in list9:\n",
    "    if ele==i:\n",
    "        print(\"found\")"
   ]
  },
  {
   "cell_type": "code",
   "execution_count": 43,
   "id": "f85838aa",
   "metadata": {},
   "outputs": [
    {
     "name": "stdout",
     "output_type": "stream",
     "text": [
      "found\n"
     ]
    }
   ],
   "source": [
    "#linear search\n",
    "def search(list9,n):\n",
    "    i=0\n",
    "    while i<len(list9):\n",
    "        if list9[i]==n:\n",
    "            return True\n",
    "        i=i+1\n",
    "\n",
    "    return False\n",
    "\n",
    "if search(list9,n):\n",
    "    print(\"found\")\n",
    "else:\n",
    "    print(\"NA\")\n",
    "    \n",
    "    "
   ]
  },
  {
   "cell_type": "code",
   "execution_count": 41,
   "id": "48338ac0",
   "metadata": {},
   "outputs": [],
   "source": [
    "list9=[4,5,6,7]\n",
    "n=6"
   ]
  },
  {
   "cell_type": "code",
   "execution_count": 52,
   "id": "4b149553",
   "metadata": {},
   "outputs": [
    {
     "name": "stdout",
     "output_type": "stream",
     "text": [
      "[3, 4, 7, 9]\n"
     ]
    }
   ],
   "source": [
    "#binary search\n",
    "#needs to be sorted\n",
    "\n",
    "#bubble sort\n",
    "def sort(nums):\n",
    "   # for i in range(len(nums)-1,0,-1):\n",
    "    for i in range(0,len(nums),1):\n",
    "        for j in range(i):\n",
    "            if nums[j]>nums[j+1]:\n",
    "                temp=nums[j]\n",
    "                nums[j]=nums[j+1]\n",
    "                nums[j+1]=temp\n",
    "\n",
    "nums=[4,9,3,7]\n",
    "sort(nums)\n",
    "print(nums)"
   ]
  },
  {
   "cell_type": "code",
   "execution_count": null,
   "id": "9bd44a12",
   "metadata": {},
   "outputs": [],
   "source": [
    "#unit testing\n",
    "\n"
   ]
  }
 ],
 "metadata": {
  "kernelspec": {
   "display_name": "Python 3",
   "language": "python",
   "name": "python3"
  },
  "language_info": {
   "codemirror_mode": {
    "name": "ipython",
    "version": 3
   },
   "file_extension": ".py",
   "mimetype": "text/x-python",
   "name": "python",
   "nbconvert_exporter": "python",
   "pygments_lexer": "ipython3",
   "version": "3.8.8"
  }
 },
 "nbformat": 4,
 "nbformat_minor": 5
}
