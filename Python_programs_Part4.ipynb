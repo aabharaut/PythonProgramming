{
 "cells": [
  {
   "cell_type": "markdown",
   "id": "f9abc689",
   "metadata": {},
   "source": [
    "# Python Programs_ Part4"
   ]
  },
  {
   "cell_type": "code",
   "execution_count": 1,
   "id": "7055ebea",
   "metadata": {},
   "outputs": [
    {
     "name": "stdout",
     "output_type": "stream",
     "text": [
      "Candies count:5\n",
      "Candies\n",
      "Candies\n",
      "Candies\n",
      "Candies\n",
      "Bye\n"
     ]
    }
   ],
   "source": [
    "av=5\n",
    "x=int(input(\"Candies count:\"))\n",
    "i=1\n",
    "while i<x:\n",
    "    \n",
    "    if i>av:\n",
    "            print(\"Out of stock\")\n",
    "            break\n",
    "        \n",
    "    print(\"Candies\")\n",
    "    i+=1\n",
    "    \n",
    "print(\"Bye\") "
   ]
  },
  {
   "cell_type": "code",
   "execution_count": 61,
   "id": "281b4bbd",
   "metadata": {},
   "outputs": [
    {
     "name": "stdout",
     "output_type": "stream",
     "text": [
      "1\n",
      "2\n",
      "3\n",
      "4\n",
      "5\n",
      "6\n",
      "7\n",
      "8\n",
      "9\n"
     ]
    }
   ],
   "source": [
    "for i in range(1,10):\n",
    "    if i%3==0 and i%5==0:\n",
    "        continue\n",
    "    print(i)"
   ]
  },
  {
   "cell_type": "code",
   "execution_count": 11,
   "id": "9243a0c4",
   "metadata": {},
   "outputs": [
    {
     "name": "stdout",
     "output_type": "stream",
     "text": [
      "# # # # "
     ]
    }
   ],
   "source": [
    "print(\"# \",end=\"\")\n",
    "print(\"# \",end=\"\")\n",
    "print(\"# \",end=\"\")\n",
    "print(\"# \",end=\"\")"
   ]
  },
  {
   "cell_type": "code",
   "execution_count": 21,
   "id": "9f2fd18d",
   "metadata": {},
   "outputs": [
    {
     "name": "stdout",
     "output_type": "stream",
     "text": [
      "# # # # "
     ]
    }
   ],
   "source": [
    "for j in range(4):\n",
    "    print(\"# \",end=\"\")\n",
    "    \n",
    "#print()    "
   ]
  },
  {
   "cell_type": "code",
   "execution_count": 20,
   "id": "4acbe7bc",
   "metadata": {},
   "outputs": [
    {
     "name": "stdout",
     "output_type": "stream",
     "text": [
      "# # # # \n",
      "# # # # \n",
      "# # # # \n",
      "# # # # \n"
     ]
    }
   ],
   "source": [
    "for i in range(4):\n",
    "    for j in range(4):\n",
    "        print(\"# \",end=\"\")\n",
    "    \n",
    "    print()"
   ]
  },
  {
   "cell_type": "code",
   "execution_count": 25,
   "id": "a109c3d1",
   "metadata": {},
   "outputs": [
    {
     "name": "stdout",
     "output_type": "stream",
     "text": [
      "# # # # # # \n",
      "# # # # # \n",
      "# # # # \n",
      "# # # \n",
      "# # \n",
      "# \n"
     ]
    }
   ],
   "source": [
    "#number of hash depend on row number\n",
    "for i in range(6):\n",
    "    for j in range(6-i):\n",
    "        print(\"# \",end=\"\")\n",
    "    \n",
    "    print()"
   ]
  },
  {
   "cell_type": "code",
   "execution_count": 26,
   "id": "fb7363cf",
   "metadata": {},
   "outputs": [
    {
     "name": "stdout",
     "output_type": "stream",
     "text": [
      "\n",
      "# \n",
      "# # \n",
      "# # # \n",
      "# # # # \n",
      "# # # # # \n"
     ]
    }
   ],
   "source": [
    "for i in range(6):\n",
    "    for j in range(i):\n",
    "        print(\"# \",end=\"\")\n",
    "    \n",
    "    print()"
   ]
  },
  {
   "cell_type": "code",
   "execution_count": 5,
   "id": "15ca1d94",
   "metadata": {},
   "outputs": [
    {
     "name": "stdout",
     "output_type": "stream",
     "text": [
      "10 aabha 4\n",
      "9 aabha\n"
     ]
    }
   ],
   "source": [
    "class car:\n",
    "    wheel=4                  #class variable / static (common to all)\n",
    "    def __init__(self):      #initialization method or constructor to initialize variables\n",
    "        self.mil=10          #instance variables\n",
    "        self.com='aabha'\n",
    "        \n",
    "c1=car() #object creation\n",
    "c2=car()\n",
    "\n",
    "c2.mil=9\n",
    "print(c1.mil,c1.com,c1.wheel)\n",
    "print(c2.mil,c2.com)"
   ]
  },
  {
   "cell_type": "code",
   "execution_count": 11,
   "id": "a1d7f4ac",
   "metadata": {},
   "outputs": [
    {
     "name": "stdout",
     "output_type": "stream",
     "text": [
      "Feature 1\n",
      "Feature 2\n",
      "Feature 3\n"
     ]
    }
   ],
   "source": [
    "#inheritance (existing features and you dont want to redefined it) single level and mulit-level inheritance\n",
    "# multiple is possible\n",
    "class A:\n",
    "    def feature1(self):\n",
    "        print(\"Feature 1\")\n",
    "    \n",
    "    def feature2(self):\n",
    "        print(\"Feature 2\")\n",
    "\n",
    "class B(A):  #inherting from A\n",
    "    def feature3(self):\n",
    "        print(\"Feature 3\")\n",
    "    \n",
    "    def feature4(self):\n",
    "        print(\"Feature 4\")\n",
    "        \n",
    "a1=A()\n",
    "b1=B()\n",
    "b1.feature1()\n",
    "b1.feature2() \n",
    "b1.feature3()\n",
    "    "
   ]
  },
  {
   "cell_type": "code",
   "execution_count": 12,
   "id": "926b1985",
   "metadata": {},
   "outputs": [
    {
     "data": {
      "text/plain": [
       "'Hello world'"
      ]
     },
     "execution_count": 12,
     "metadata": {},
     "output_type": "execute_result"
    }
   ],
   "source": [
    "inp=\"Hello world\"\n",
    "inp"
   ]
  },
  {
   "cell_type": "code",
   "execution_count": 17,
   "id": "4caaca5d",
   "metadata": {},
   "outputs": [
    {
     "data": {
      "text/plain": [
       "'dlrow olleH'"
      ]
     },
     "execution_count": 17,
     "metadata": {},
     "output_type": "execute_result"
    }
   ],
   "source": [
    "inp[-1: :-1] #extended slicing\n",
    "#first paramter -1 moving from end, moving towards start, difference between indexes\n",
    "\n",
    "#input2=\"\""
   ]
  },
  {
   "cell_type": "code",
   "execution_count": 20,
   "id": "03758287",
   "metadata": {},
   "outputs": [
    {
     "name": "stdout",
     "output_type": "stream",
     "text": [
      "skeegrofskeeG\n"
     ]
    }
   ],
   "source": [
    "input1=\"Geeksforgeeks\"\n",
    "result=''\n",
    "for i in range(len(input1)-1,-1,-1):     #end index, exclusive (move from end index to 0), difference between index)\n",
    "    result=result+input1[i]\n",
    "\n",
    "print(result)"
   ]
  },
  {
   "cell_type": "code",
   "execution_count": 23,
   "id": "eae15bd3",
   "metadata": {},
   "outputs": [
    {
     "name": "stdout",
     "output_type": "stream",
     "text": [
      "24\n"
     ]
    }
   ],
   "source": [
    "#factorial of a number\n",
    "\n",
    "def fact(n):  #pass the value\n",
    "    f=1\n",
    "    for i in range(1,n+1):  #if we give n in range it will end upto 4\n",
    "        f=f*i\n",
    "    return f\n",
    "x=4\n",
    "result=fact(x)\n",
    "print(result)"
   ]
  },
  {
   "cell_type": "code",
   "execution_count": 27,
   "id": "8a367beb",
   "metadata": {},
   "outputs": [
    {
     "name": "stdout",
     "output_type": "stream",
     "text": [
      "6\n"
     ]
    }
   ],
   "source": [
    "#recursion - calling a function from itself\n",
    "def fact(n):\n",
    "    if n==0:\n",
    "        return 1\n",
    "    else:\n",
    "        return n*fact(n-1)\n",
    "\n",
    "result=fact(3)\n",
    "print(result)"
   ]
  },
  {
   "cell_type": "code",
   "execution_count": 31,
   "id": "c2f67c65",
   "metadata": {},
   "outputs": [
    {
     "name": "stdout",
     "output_type": "stream",
     "text": [
      "1\n"
     ]
    }
   ],
   "source": [
    "def fact(n):  #pass the value\n",
    "    if n==0:\n",
    "        return 1\n",
    "    else:\n",
    "        f=1\n",
    "        for i in range(1,n+1):  #if we give n in range it will end upto 4\n",
    "            f=f*i\n",
    "        return f\n",
    "x=0\n",
    "result=fact(x)\n",
    "print(result)"
   ]
  },
  {
   "cell_type": "code",
   "execution_count": 52,
   "id": "caa57254",
   "metadata": {},
   "outputs": [
    {
     "name": "stdout",
     "output_type": "stream",
     "text": [
      "[4, 7, 6]\n"
     ]
    }
   ],
   "source": [
    "#remove duplicates from list\n",
    "list1=['a','b','a','u']\n",
    "list2=[4,7,7,6]\n",
    "list2=list(dict.fromkeys(list2)) #convert it into dictionary \n",
    "#list2.sort()\n",
    "print(list2)"
   ]
  },
  {
   "cell_type": "code",
   "execution_count": 36,
   "id": "bad54d9c",
   "metadata": {},
   "outputs": [
    {
     "name": "stdout",
     "output_type": "stream",
     "text": [
      "['r', 't']\n"
     ]
    }
   ],
   "source": [
    "def dup_func(x):\n",
    "    return list(dict.fromkeys(x))\n",
    "\n",
    "dup1=dup_func(['r','t','t'])\n",
    "print(dup1)\n",
    "#using function"
   ]
  },
  {
   "cell_type": "code",
   "execution_count": 40,
   "id": "831ccdc1",
   "metadata": {},
   "outputs": [
    {
     "name": "stdout",
     "output_type": "stream",
     "text": [
      "Shubham Raut\n",
      "['Aabha', 'Raut']\n"
     ]
    }
   ],
   "source": [
    "a=\"Aabha Raut\"\n",
    "print(a.replace(\"Aabha\",\"Shubham\"))\n",
    "b=a.split(\" \")\n",
    "print(b)"
   ]
  },
  {
   "cell_type": "code",
   "execution_count": 45,
   "id": "1f7b0a93",
   "metadata": {},
   "outputs": [
    {
     "name": "stdout",
     "output_type": "stream",
     "text": [
      "no\n"
     ]
    }
   ],
   "source": [
    "if 'sasha' in a:\n",
    "    print(\"yes\")\n",
    "else:\n",
    "    print(\"no\")"
   ]
  },
  {
   "cell_type": "code",
   "execution_count": 47,
   "id": "b7d9f945",
   "metadata": {},
   "outputs": [
    {
     "name": "stdout",
     "output_type": "stream",
     "text": [
      "['banana', 'cherry']\n"
     ]
    }
   ],
   "source": [
    "thislist = [\"apple\", \"banana\", \"cherry\"]\n",
    "del thislist[0]\n",
    "print(thislist)"
   ]
  },
  {
   "cell_type": "code",
   "execution_count": 48,
   "id": "4aab1a05",
   "metadata": {},
   "outputs": [
    {
     "name": "stdout",
     "output_type": "stream",
     "text": [
      "['Aabha']\n"
     ]
    }
   ],
   "source": [
    "del b[1]\n",
    "print(b)"
   ]
  },
  {
   "cell_type": "code",
   "execution_count": 53,
   "id": "161f2e02",
   "metadata": {},
   "outputs": [
    {
     "data": {
      "text/plain": [
       "[10, 45, 67, 'aabha']"
      ]
     },
     "execution_count": 53,
     "metadata": {},
     "output_type": "execute_result"
    }
   ],
   "source": [
    "x1=[10,45,67,'aabha']\n",
    "x1"
   ]
  },
  {
   "cell_type": "code",
   "execution_count": 55,
   "id": "825ce48a",
   "metadata": {},
   "outputs": [
    {
     "data": {
      "text/plain": [
       "['aabha', 67, 45, 10]"
      ]
     },
     "execution_count": 55,
     "metadata": {},
     "output_type": "execute_result"
    }
   ],
   "source": [
    "x2=x1[::-1]\n",
    "x2"
   ]
  },
  {
   "cell_type": "code",
   "execution_count": 56,
   "id": "5a4bd7c6",
   "metadata": {},
   "outputs": [
    {
     "name": "stdout",
     "output_type": "stream",
     "text": [
      "one 1\n",
      "second 2\n",
      "one next 2\n",
      "second next 1\n"
     ]
    }
   ],
   "source": [
    "#swap number\n",
    "a=1\n",
    "b=2\n",
    "\n",
    "print(\"one\",a)\n",
    "print(\"second\",b)\n",
    "temp=a\n",
    "a=b\n",
    "b=temp\n",
    "print(\"one next\",a)\n",
    "print(\"second next\",b)"
   ]
  },
  {
   "cell_type": "code",
   "execution_count": 59,
   "id": "4bb6c94f",
   "metadata": {},
   "outputs": [
    {
     "name": "stdout",
     "output_type": "stream",
     "text": [
      "not prime\n"
     ]
    }
   ],
   "source": [
    "#prime number\n",
    "num=14\n",
    "count=0  #to count factors\n",
    "if num>1: #natural number\n",
    "    for i in range(1,num+1):\n",
    "        if(num%i)==0:\n",
    "            count=count+1\n",
    "    if count==2:\n",
    "        print(\"Prime\")\n",
    "    else:\n",
    "        print(\"not prime\")"
   ]
  },
  {
   "cell_type": "code",
   "execution_count": 65,
   "id": "28647b46",
   "metadata": {},
   "outputs": [
    {
     "name": "stdout",
     "output_type": "stream",
     "text": [
      "1\n",
      "2\n",
      "3\n",
      "5\n",
      "8\n"
     ]
    }
   ],
   "source": [
    "#fibo\n",
    "def fib(n):\n",
    "    a=1\n",
    "    b=2\n",
    "    \n",
    "    print(a)\n",
    "    print(b)\n",
    "    for i in range(2,n):\n",
    "        c=a+b\n",
    "        a=b\n",
    "        b=c\n",
    "        print(c)\n",
    "\n",
    "fib(5)"
   ]
  },
  {
   "cell_type": "code",
   "execution_count": 66,
   "id": "b1ff7537",
   "metadata": {},
   "outputs": [
    {
     "name": "stdout",
     "output_type": "stream",
     "text": [
      "56\n"
     ]
    }
   ],
   "source": [
    "#maximum and minimum values from array\n",
    "arr=[32,4,56,7]\n",
    "max=arr[0] #lets consider 1st is max and check next numbers using loop\n",
    "n=len(arr) #number of values\n",
    "\n",
    "for i in range(1,n):\n",
    "    if arr[i]>max:\n",
    "        max=arr[i]\n",
    "print(max)"
   ]
  },
  {
   "cell_type": "code",
   "execution_count": 67,
   "id": "bd1e5a93",
   "metadata": {},
   "outputs": [
    {
     "data": {
      "text/plain": [
       "4"
      ]
     },
     "execution_count": 67,
     "metadata": {},
     "output_type": "execute_result"
    }
   ],
   "source": [
    "len(arr)"
   ]
  },
  {
   "cell_type": "code",
   "execution_count": 68,
   "id": "2eda6954",
   "metadata": {},
   "outputs": [
    {
     "name": "stdout",
     "output_type": "stream",
     "text": [
      "32\n",
      "4\n",
      "56\n",
      "7\n"
     ]
    }
   ],
   "source": [
    "for x in arr:\n",
    "    print(x)"
   ]
  },
  {
   "cell_type": "code",
   "execution_count": 81,
   "id": "1ba62c18",
   "metadata": {},
   "outputs": [
    {
     "data": {
      "text/plain": [
       "4"
      ]
     },
     "execution_count": 81,
     "metadata": {},
     "output_type": "execute_result"
    }
   ],
   "source": [
    "list3=[6,7,5,3]\n",
    "list3[-1]\n",
    "size=len(list3)\n",
    "size"
   ]
  },
  {
   "cell_type": "code",
   "execution_count": 82,
   "id": "c9eda4fe",
   "metadata": {},
   "outputs": [],
   "source": [
    "temp3=list3[0]\n",
    "list3[0]=list3[size-2]\n",
    "list3[size-2]=temp3"
   ]
  },
  {
   "cell_type": "code",
   "execution_count": 83,
   "id": "5af799b4",
   "metadata": {},
   "outputs": [
    {
     "data": {
      "text/plain": [
       "[5, 7, 6, 3]"
      ]
     },
     "execution_count": 83,
     "metadata": {},
     "output_type": "execute_result"
    }
   ],
   "source": [
    "list3"
   ]
  },
  {
   "cell_type": "code",
   "execution_count": 89,
   "id": "db27c17c",
   "metadata": {},
   "outputs": [
    {
     "name": "stdout",
     "output_type": "stream",
     "text": [
      "not found\n"
     ]
    }
   ],
   "source": [
    "ele=15\n",
    "flag=0\n",
    "for i in list3:\n",
    "    if i==ele:\n",
    "        print(\"found\")\n",
    "        flag=1\n",
    "        break\n",
    "if flag==0:\n",
    "    print(\"not found\")"
   ]
  },
  {
   "cell_type": "code",
   "execution_count": 94,
   "id": "b61a5cbe",
   "metadata": {},
   "outputs": [
    {
     "name": "stdout",
     "output_type": "stream",
     "text": [
      "1\n"
     ]
    }
   ],
   "source": [
    "#count occurence\n",
    "list5=[5,6,7,7,7]\n",
    "ele=6\n",
    "count=0\n",
    "for i in list5:\n",
    "    if ele==i:\n",
    "        count=count+1\n",
    "\n",
    "print(count)"
   ]
  },
  {
   "cell_type": "code",
   "execution_count": 95,
   "id": "cce49407",
   "metadata": {},
   "outputs": [
    {
     "data": {
      "text/plain": [
       "32"
      ]
     },
     "execution_count": 95,
     "metadata": {},
     "output_type": "execute_result"
    }
   ],
   "source": [
    "sum(list5)"
   ]
  },
  {
   "cell_type": "code",
   "execution_count": 101,
   "id": "40a1dd6f",
   "metadata": {},
   "outputs": [
    {
     "name": "stdout",
     "output_type": "stream",
     "text": [
      "10\n"
     ]
    }
   ],
   "source": [
    "res=[5,1,2]\n",
    "multi=1\n",
    "for i in res:\n",
    "    multi=multi*i\n",
    "    \n",
    "print(multi)"
   ]
  },
  {
   "cell_type": "code",
   "execution_count": 102,
   "id": "94b3f98e",
   "metadata": {},
   "outputs": [],
   "source": [
    "res.sort()"
   ]
  },
  {
   "cell_type": "code",
   "execution_count": 103,
   "id": "7865e19a",
   "metadata": {},
   "outputs": [
    {
     "name": "stdout",
     "output_type": "stream",
     "text": [
      "[1, 2, 5]\n"
     ]
    }
   ],
   "source": [
    "print(res)"
   ]
  },
  {
   "cell_type": "code",
   "execution_count": null,
   "id": "71877866",
   "metadata": {},
   "outputs": [],
   "source": []
  },
  {
   "cell_type": "code",
   "execution_count": null,
   "id": "5229d660",
   "metadata": {},
   "outputs": [],
   "source": []
  }
 ],
 "metadata": {
  "kernelspec": {
   "display_name": "Python 3",
   "language": "python",
   "name": "python3"
  },
  "language_info": {
   "codemirror_mode": {
    "name": "ipython",
    "version": 3
   },
   "file_extension": ".py",
   "mimetype": "text/x-python",
   "name": "python",
   "nbconvert_exporter": "python",
   "pygments_lexer": "ipython3",
   "version": "3.8.8"
  }
 },
 "nbformat": 4,
 "nbformat_minor": 5
}
